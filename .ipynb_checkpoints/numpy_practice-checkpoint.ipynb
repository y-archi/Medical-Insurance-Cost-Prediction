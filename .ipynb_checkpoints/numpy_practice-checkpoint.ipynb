{
 "cells": [
  {
   "cell_type": "markdown",
   "id": "fa03e696-f853-4871-ab72-dfac0d05d34e",
   "metadata": {},
   "source": [
    "# Working with numpy"
   ]
  },
  {
   "cell_type": "code",
   "execution_count": 1,
   "id": "a102747b-79ab-4da4-a80c-55f5df3315e5",
   "metadata": {},
   "outputs": [],
   "source": [
    "import numpy as np"
   ]
  },
  {
   "cell_type": "code",
   "execution_count": 2,
   "id": "0992ec54-7da6-4b0e-8de7-c980cdbdb4ac",
   "metadata": {},
   "outputs": [],
   "source": [
    "arr = np.array([[3,4,7,9,12,15,16]])"
   ]
  },
  {
   "cell_type": "code",
   "execution_count": 3,
   "id": "3081c01b-c26c-4783-9365-361e20424ad8",
   "metadata": {},
   "outputs": [
    {
     "data": {
      "text/plain": [
       "array([[ 3,  4,  7,  9, 12, 15, 16]])"
      ]
     },
     "execution_count": 3,
     "metadata": {},
     "output_type": "execute_result"
    }
   ],
   "source": [
    "arr"
   ]
  },
  {
   "cell_type": "code",
   "execution_count": 4,
   "id": "c4490f09-1d07-49cb-b319-f72179538fa2",
   "metadata": {},
   "outputs": [
    {
     "data": {
      "text/plain": [
       "(1, 7)"
      ]
     },
     "execution_count": 4,
     "metadata": {},
     "output_type": "execute_result"
    }
   ],
   "source": [
    "arr.shape"
   ]
  },
  {
   "cell_type": "code",
   "execution_count": 5,
   "id": "157190c6-70ae-42b8-9496-e5eb457d6993",
   "metadata": {},
   "outputs": [
    {
     "data": {
      "text/plain": [
       "dtype('int32')"
      ]
     },
     "execution_count": 5,
     "metadata": {},
     "output_type": "execute_result"
    }
   ],
   "source": [
    "arr.dtype"
   ]
  },
  {
   "cell_type": "code",
   "execution_count": 6,
   "id": "934a1bcc-105f-4c44-87d4-3d2551c1328a",
   "metadata": {},
   "outputs": [],
   "source": [
    "arr[0,1] = 45"
   ]
  },
  {
   "cell_type": "code",
   "execution_count": 7,
   "id": "3ed03fb3-9fdf-439b-83b3-c661218b3f5f",
   "metadata": {},
   "outputs": [
    {
     "data": {
      "text/plain": [
       "array([[ 3, 45,  7,  9, 12, 15, 16]])"
      ]
     },
     "execution_count": 7,
     "metadata": {},
     "output_type": "execute_result"
    }
   ],
   "source": [
    "arr"
   ]
  },
  {
   "cell_type": "code",
   "execution_count": 10,
   "id": "be796048-5e19-40fa-a9cc-8e387821676d",
   "metadata": {},
   "outputs": [],
   "source": [
    "zeros = np.zeros((2,4))"
   ]
  },
  {
   "cell_type": "code",
   "execution_count": 11,
   "id": "244920c7-3221-4aef-96eb-753ca1b52f87",
   "metadata": {},
   "outputs": [
    {
     "data": {
      "text/plain": [
       "array([[0., 0., 0., 0.],\n",
       "       [0., 0., 0., 0.]])"
      ]
     },
     "execution_count": 11,
     "metadata": {},
     "output_type": "execute_result"
    }
   ],
   "source": [
    "zeros"
   ]
  },
  {
   "cell_type": "code",
   "execution_count": 12,
   "id": "475b5822-7017-4a94-b419-adfed78789c4",
   "metadata": {},
   "outputs": [],
   "source": [
    "rng = np.arange(14)"
   ]
  },
  {
   "cell_type": "code",
   "execution_count": 13,
   "id": "c004934d-09a7-40bd-a154-6926effc7f1a",
   "metadata": {},
   "outputs": [
    {
     "data": {
      "text/plain": [
       "array([ 0,  1,  2,  3,  4,  5,  6,  7,  8,  9, 10, 11, 12, 13])"
      ]
     },
     "execution_count": 13,
     "metadata": {},
     "output_type": "execute_result"
    }
   ],
   "source": [
    "rng"
   ]
  },
  {
   "cell_type": "code",
   "execution_count": 16,
   "id": "f0d288b6-e836-4f0f-84f7-94f015ced543",
   "metadata": {},
   "outputs": [],
   "source": [
    "lspace = np.linspace(3,27,3)"
   ]
  },
  {
   "cell_type": "code",
   "execution_count": 17,
   "id": "c3ede100-f7a7-4a7d-beb9-33c254b9db23",
   "metadata": {},
   "outputs": [
    {
     "data": {
      "text/plain": [
       "array([ 3., 15., 27.])"
      ]
     },
     "execution_count": 17,
     "metadata": {},
     "output_type": "execute_result"
    }
   ],
   "source": [
    "lspace"
   ]
  },
  {
   "cell_type": "code",
   "execution_count": 24,
   "id": "6833102c-4106-41d0-82a4-8ab69f729aaf",
   "metadata": {},
   "outputs": [],
   "source": [
    "emp = np.empty((2,5))"
   ]
  },
  {
   "cell_type": "code",
   "execution_count": 25,
   "id": "3541a3c3-f5e2-4112-822f-20e11290f28a",
   "metadata": {},
   "outputs": [
    {
     "data": {
      "text/plain": [
       "array([[nan,  0.,  0.,  0.,  0.],\n",
       "       [ 0.,  0.,  0.,  0.,  0.]])"
      ]
     },
     "execution_count": 25,
     "metadata": {},
     "output_type": "execute_result"
    }
   ],
   "source": [
    "emp"
   ]
  },
  {
   "cell_type": "code",
   "execution_count": 27,
   "id": "576647bb-894f-4361-bb0e-56b2ba39bda5",
   "metadata": {},
   "outputs": [],
   "source": [
    "ide = np.identity(9)"
   ]
  },
  {
   "cell_type": "code",
   "execution_count": 28,
   "id": "3907eb3f-303e-4acd-8727-e346f2934bda",
   "metadata": {},
   "outputs": [
    {
     "data": {
      "text/plain": [
       "array([[1., 0., 0., 0., 0., 0., 0., 0., 0.],\n",
       "       [0., 1., 0., 0., 0., 0., 0., 0., 0.],\n",
       "       [0., 0., 1., 0., 0., 0., 0., 0., 0.],\n",
       "       [0., 0., 0., 1., 0., 0., 0., 0., 0.],\n",
       "       [0., 0., 0., 0., 1., 0., 0., 0., 0.],\n",
       "       [0., 0., 0., 0., 0., 1., 0., 0., 0.],\n",
       "       [0., 0., 0., 0., 0., 0., 1., 0., 0.],\n",
       "       [0., 0., 0., 0., 0., 0., 0., 1., 0.],\n",
       "       [0., 0., 0., 0., 0., 0., 0., 0., 1.]])"
      ]
     },
     "execution_count": 28,
     "metadata": {},
     "output_type": "execute_result"
    }
   ],
   "source": [
    "ide"
   ]
  },
  {
   "cell_type": "code",
   "execution_count": 31,
   "id": "4d1dc0ec-20f4-4b9e-8406-355074dd5b1d",
   "metadata": {},
   "outputs": [],
   "source": [
    "rng = rng.reshape((2,7))"
   ]
  },
  {
   "cell_type": "code",
   "execution_count": 35,
   "id": "a19632f3-a649-4dde-a2eb-ed3faae70a3d",
   "metadata": {},
   "outputs": [
    {
     "data": {
      "text/plain": [
       "array([ 0,  1,  2,  3,  4,  5,  6,  7,  8,  9, 10, 11, 12, 13])"
      ]
     },
     "execution_count": 35,
     "metadata": {},
     "output_type": "execute_result"
    }
   ],
   "source": [
    "rng.ravel()"
   ]
  },
  {
   "cell_type": "code",
   "execution_count": 36,
   "id": "071bee64-9dd4-473d-ae6d-263c11713eff",
   "metadata": {},
   "outputs": [
    {
     "data": {
      "text/plain": [
       "<memory at 0x000001E1AD08AAD0>"
      ]
     },
     "execution_count": 36,
     "metadata": {},
     "output_type": "execute_result"
    }
   ],
   "source": [
    "arr.data"
   ]
  },
  {
   "cell_type": "code",
   "execution_count": 37,
   "id": "ccf9a102-8c36-49cf-85a8-49e740a0509b",
   "metadata": {},
   "outputs": [
    {
     "data": {
      "text/plain": [
       "7"
      ]
     },
     "execution_count": 37,
     "metadata": {},
     "output_type": "execute_result"
    }
   ],
   "source": [
    "arr.size"
   ]
  },
  {
   "cell_type": "code",
   "execution_count": 38,
   "id": "30c2dc36-13bb-42af-b10e-307ea09c80b1",
   "metadata": {},
   "outputs": [
    {
     "data": {
      "text/plain": [
       "4"
      ]
     },
     "execution_count": 38,
     "metadata": {},
     "output_type": "execute_result"
    }
   ],
   "source": [
    "arr.itemsize"
   ]
  },
  {
   "cell_type": "code",
   "execution_count": 39,
   "id": "1f035553-0212-455c-97aa-663ee3756c65",
   "metadata": {},
   "outputs": [
    {
     "data": {
      "text/plain": [
       "9"
      ]
     },
     "execution_count": 39,
     "metadata": {},
     "output_type": "execute_result"
    }
   ],
   "source": [
    "sum(range(5),-1)"
   ]
  },
  {
   "cell_type": "code",
   "execution_count": null,
   "id": "cfa35c44-70f8-48ce-b83e-9b3d78b5a5bf",
   "metadata": {},
   "outputs": [],
   "source": []
  }
 ],
 "metadata": {
  "kernelspec": {
   "display_name": "Python 3 (ipykernel)",
   "language": "python",
   "name": "python3"
  },
  "language_info": {
   "codemirror_mode": {
    "name": "ipython",
    "version": 3
   },
   "file_extension": ".py",
   "mimetype": "text/x-python",
   "name": "python",
   "nbconvert_exporter": "python",
   "pygments_lexer": "ipython3",
   "version": "3.9.1"
  }
 },
 "nbformat": 4,
 "nbformat_minor": 5
}
